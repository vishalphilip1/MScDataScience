{
 "cells": [
  {
   "cell_type": "code",
   "execution_count": 3,
   "id": "3f38eff4",
   "metadata": {},
   "outputs": [
    {
     "name": "stdout",
     "output_type": "stream",
     "text": [
      "aaaaa3\n"
     ]
    }
   ],
   "source": [
    "def function1():\n",
    "        print(\"aaaa1\")\n",
    "        print(\"aaaaa2\")\n",
    "print('aaaaa3')"
   ]
  },
  {
   "cell_type": "code",
   "execution_count": 4,
   "id": "3b74e570",
   "metadata": {},
   "outputs": [
    {
     "name": "stdout",
     "output_type": "stream",
     "text": [
      "aaaa1\n",
      "aaaaa2\n"
     ]
    }
   ],
   "source": [
    "function1()"
   ]
  },
  {
   "cell_type": "code",
   "execution_count": 5,
   "id": "ad91e014",
   "metadata": {},
   "outputs": [
    {
     "name": "stdout",
     "output_type": "stream",
     "text": [
      "aaaa1\n",
      "aaaaa2\n",
      "aaaa1\n",
      "aaaaa2\n"
     ]
    }
   ],
   "source": [
    "function1()\n",
    "function1()"
   ]
  },
  {
   "cell_type": "code",
   "execution_count": 6,
   "id": "70f12077",
   "metadata": {},
   "outputs": [],
   "source": [
    "def function3(x):\n",
    "    return 2*3\n",
    "A = function3(5)"
   ]
  },
  {
   "cell_type": "code",
   "execution_count": 7,
   "id": "15e7f878",
   "metadata": {},
   "outputs": [
    {
     "data": {
      "text/plain": [
       "6"
      ]
     },
     "execution_count": 7,
     "metadata": {},
     "output_type": "execute_result"
    }
   ],
   "source": [
    "A"
   ]
  },
  {
   "cell_type": "code",
   "execution_count": null,
   "id": "0f017962",
   "metadata": {},
   "outputs": [],
   "source": []
  }
 ],
 "metadata": {
  "kernelspec": {
   "display_name": "Python 3 (ipykernel)",
   "language": "python",
   "name": "python3"
  },
  "language_info": {
   "codemirror_mode": {
    "name": "ipython",
    "version": 3
   },
   "file_extension": ".py",
   "mimetype": "text/x-python",
   "name": "python",
   "nbconvert_exporter": "python",
   "pygments_lexer": "ipython3",
   "version": "3.9.13"
  }
 },
 "nbformat": 4,
 "nbformat_minor": 5
}
